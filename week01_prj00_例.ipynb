 

20春_Web数据挖掘
项目0 by 廖汉腾, 许智超

抄用最人性化的模块
来源 最新的爬虫工具requests-html
文档 requests-html
项目0.A cnblogs 新闻
In [1]:


from requests_html import HTMLSession
​
session = HTMLSession()
​
r = session.get("https://news.cnblogs.com/n/recommend")
​
# 通过CSS找到新闻标签
news = r.html.find('h2.news_entry > a')
​
for new in news:
    print(new.text)  # 获得新闻标题
    print(new.absolute_links)  # 获得新闻链接



帮罗永浩算笔账：创业这些年，到底挣了多少钱？
{'https://news.cnblogs.com/n/658176/'}
被谷歌剪掉命根子的出海应用，没几个冤枉的
{'https://news.cnblogs.com/n/658174/'}
马云给高中生写了一份信，三年后，让全世界都来考数学
{'https://news.cnblogs.com/n/658169/'}
怀疑开发者在“造核弹”？GitHub 不断封禁开源项目
{'https://news.cnblogs.com/n/658107/'}
AMD 发布 Ryzen 9 系列移动 CPU，笔记本市场变天了么？
{'https://news.cnblogs.com/n/658087/'}
为什么阿里喜欢全面并购，腾讯喜欢战略投资？
{'https://news.cnblogs.com/n/658059/'}
从百度掉队谈起：给百度开药，其实只有一条
{'https://news.cnblogs.com/n/658007/'}
支付宝若要击败美团，难度到底有多大？
{'https://news.cnblogs.com/n/658006/'}
追踪网赚游戏：是谁割了你，而你又割了谁？
{'https://news.cnblogs.com/n/657964/'}
成本480万的《三体》改编动画，如何做到9.9分？
{'https://news.cnblogs.com/n/657962/'}
互联网公司的灰色战争
{'https://news.cnblogs.com/n/657960/'}
图灵奖背后：一个奥斯卡拿到手软，一个公司卖了160亿
{'https://news.cnblogs.com/n/657944/'}
一个叫“郭红”的人 炮制了朋友圈所有的“世界失控”
{'https://news.cnblogs.com/n/657930/'}
.NET 5 Preview 1 发布
{'https://news.cnblogs.com/n/657924/'}
一堂司法网课和它的主讲老师为什么突然火了？
{'https://news.cnblogs.com/n/657877/'}
丑闻上身Soul：我本小师妹，怎么就活成了灭绝师太？
{'https://news.cnblogs.com/n/657875/'}
GitHub移动应用正式上架 不可编辑代码，支持“社交”
{'https://news.cnblogs.com/n/657863/'}
Visual Studio 2019 16.5 发布
{'https://news.cnblogs.com/n/657861/'}

不是算Python的内容：HTML 之 xpath 与 selector
接下来需要选择器selector抽取数据img，借用HTML的"结构"性(chrome要从页面选到结构，你懂的)，有两种可能，必记下来
xpath 
CSS selector
试第一个和另一个，看看有什麽规律 (侦探活) Chrome Console下使用Javascript
xpath: $x("放这")
CSS: $("放这")

项目0.B liepin 工作
In [2]:


from requests_html import HTMLSession
​
session = HTMLSession()
​
r = session.get("https://www.liepin.com/zhaopin/?key=HCD")
​
# 通过xpath找到工作标签
news = r.html.xpath('//div[@class="job-info"]/h3/a')
​
for new in news:
    print(new.text)  # 获得工作标题
    print(new.absolute_links)  # 获得工作链接



Finance Accountant
{'https://www.liepin.com/job/1926890245.shtml'}
Group Assistant Finance Manager
{'https://www.liepin.com/job/1926890423.shtml'}
Assistant Finance Manager 助理财务经理
{'https://www.liepin.com/job/1926605291.shtml'}
Assistant Finance Manager 助理财务经理
{'https://www.liepin.com/job/1926605289.shtml'}
Assistant Finance Manager 助理财务经理
{'https://www.liepin.com/job/1926605287.shtml'}
Assistant Finance Manager 助理财务经理
{'https://www.liepin.com/job/1926605285.shtml'}
Assistant Finance Manager 助理财务经理
{'https://www.liepin.com/job/1926605283.shtml'}
Assistant Finance Manager 助理财务经理
{'https://www.liepin.com/job/1926605281.shtml'}
Assistant Finance Manager 助理财务经理
{'https://www.liepin.com/job/1926604967.shtml'}
生化分析员
{'https://www.liepin.com/job/1925817497.shtml'}
蛋白活性分析科学家/主管
{'https://www.liepin.com/job/1924962551.shtml'}
蛋白活性分析研究员/科学家
{'https://www.liepin.com/job/1924962221.shtml'}
AD Director
{'https://www.liepin.com/a/19161383.shtml'}
Assistant Finance Manager
{'https://www.liepin.com/a/18479671.shtml'}
Senior accountant
{'https://www.liepin.com/job/1919425407.shtml'}
Senior accountant
{'https://www.liepin.com/job/1919425405.shtml'}
QC生物理化技术员-活性
{'https://www.liepin.com/job/1926301923.shtml'}
生物分析研究员/高级研究员
{'https://www.liepin.com/job/1914038251.shtml'}
生物分析研究员/高级研究员
{'https://www.liepin.com/job/1914028500.shtml'}
生化分析研究员 Scientist, Bioassay
{'https://www.liepin.com/job/1921658565.shtml'}
生物分析VP
{'https://www.liepin.com/a/18607329.shtml'}
生物分析VP
{'https://www.liepin.com/a/18585585.shtml'}
生物分析高级研究员
{'https://www.liepin.com/job/1926727335.shtml'}
生物分析研究员
{'https://www.liepin.com/job/1926727221.shtml'}
生物分析主管
{'https://www.liepin.com/job/1926727127.shtml'}
分析方法开发负责人
{'https://www.liepin.com/a/18135481.shtml'}
线上课程运营
{'https://www.liepin.com/job/1926621463.shtml'}
产品经理/产品总监
{'https://www.liepin.com/job/1926343917.shtml'}
学习平台产品和解决方案销售经理
{'https://www.liepin.com/job/1925301467.shtml'}
市场营销策划经理
{'https://www.liepin.com/job/1925301327.shtml'}
KA大客户经理（华北）
{'https://www.liepin.com/job/1920432755.shtml'}
Key account manager/大客户经理
{'https://www.liepin.com/job/1916859263.shtml'}
Key account manager/大客户经理
{'https://www.liepin.com/job/1916859261.shtml'}
HRBP
{'https://www.liepin.com/job/1925702711.shtml'}
HRBP-外资
{'https://www.liepin.com/job/1926011975.shtml'}
大分子分析研究员
{'https://www.liepin.com/job/1923407623.shtml'}
生物药理化分析科学家
{'https://www.liepin.com/job/1914929052.shtml'}
理化分析科学家
{'https://www.liepin.com/job/1914718902.shtml'}
生物药分析研究员(002582)
{'https://www.liepin.com/job/1918659551.shtml'}

展示图
Jupyter 可用的魔法之一 IPython 展示模块, HTML转码
In [3]:


from IPython.core.display import display, HTML
display(HTML('<img src="https://httpstatusdogs.com/img/500.jpg" alt="">'))





展示图
Jupyter 可用的魔法之一 IPython 展示模块, HTML转码
In [2]:


from IPython.core.display import display, Markdown
display(Markdown('![](https://httpstatusdogs.com/img/400.jpg)'))





抓抓图片?
图片新闻_Bing
项目0.C 图片新闻
In [3]:


from requests_html import HTMLSession
​
session = HTMLSession()
​
r = session.get("https://cn.bing.com/images/trending")
​
# 通过xpath找到工作标签
items = r.html.xpath('//img/@src')
​
for url in items:
    print(url)  # 获得图片src url
    display(Markdown('![]({url})'.format(url=url)))  # 展示图片    



data:image/png;base64,iVBORw0KGgoAAAANSUhEUgAAAAEAAAABCAQAAAC1HAwCAAAAC0lEQVR42mNgYAAAAAMAASsJTYQAAAAASUVORK5CYII=



https://tse1-mm.cn.bing.net/th/id/OET.fa5df21747854ea0ab5bd74a3ffdc3fa?w=272&h=272&c=7&rs=1&o=5&pid=1.9



https://tse1-mm.cn.bing.net/th/id/OET.b64f52dae61c45e7abc3e7e9f0e32978?w=272&h=135&c=7&rs=1&o=5&pid=1.9



https://tse1-mm.cn.bing.net/th/id/OET.6c3707baf4bc4f15b92dd05aa3324bec?w=272&h=135&c=7&rs=1&o=5&pid=1.9



https://tse1-mm.cn.bing.net/th/id/OET.20f858e78da745d0b5a1ca5a681e48d5?w=272&h=135&c=7&rs=1&o=5&pid=1.9



https://tse1-mm.cn.bing.net/th/id/OET.144ef38ff98e4f3588d6fa42444044f4?w=272&h=135&c=7&rs=1&o=5&pid=1.9



https://tse1-mm.cn.bing.net/th/id/OET.d0337b3d2f9e4377927a6644c282f307?w=272&h=135&c=7&rs=1&o=5&pid=1.9



https://tse1-mm.cn.bing.net/th/id/OET.e76a24839be64ac4a5de2090ac221d48?w=272&h=135&c=7&rs=1&o=5&pid=1.9



https://tse1-mm.cn.bing.net/th/id/OET.2f40ad5cb88f41179bd8d4654222ac40?w=135&h=135&c=7&rs=1&o=5&pid=1.9



https://tse1-mm.cn.bing.net/th/id/OET.e48fe9220c4c4ab5927da489a993f067?w=135&h=135&c=7&rs=1&o=5&pid=1.9



https://tse1-mm.cn.bing.net/th/id/OET.351306e24ec549f08992eec5db0d6d64?w=135&h=135&c=7&rs=1&o=5&pid=1.9



https://tse1-mm.cn.bing.net/th/id/OET.772aee4846d4458c8e5111dbb06855d0?w=135&h=135&c=7&rs=1&o=5&pid=1.9



https://tse1-mm.cn.bing.net/th/id/OET.ac947abd05814bb28329fdf32965e239?w=272&h=272&c=7&rs=1&o=5&pid=1.9



https://tse1-mm.cn.bing.net/th/id/OET.d614e356ff3648ea8385bcd68546a74c?w=135&h=272&c=7&rs=1&o=5&pid=1.9



https://tse1-mm.cn.bing.net/th/id/OET.e25f83524d9f4a868bdbdf1919dec3c0?w=135&h=272&c=7&rs=1&o=5&pid=1.9



https://tse1-mm.cn.bing.net/th/id/OET.938d4544da29427fa7278cb7c7351fb6?w=135&h=272&c=7&rs=1&o=5&pid=1.9



https://tse1-mm.cn.bing.net/th/id/OET.609002688afe4145900fcf56bfc1728d?w=135&h=272&c=7&rs=1&o=5&pid=1.9



https://tse1-mm.cn.bing.net/th/id/OET.3b155f97226d4ce3b8019ca75c37785c?w=135&h=272&c=7&rs=1&o=5&pid=1.9



https://tse1-mm.cn.bing.net/th/id/OET.fc7d18af572249f4815210592b083015?w=135&h=272&c=7&rs=1&o=5&pid=1.9



https://tse1-mm.cn.bing.net/th/id/OET.dc7d64a2cf314b4cbaa1d8b9314734f7?w=135&h=135&c=7&rs=1&o=5&pid=1.9



https://tse1-mm.cn.bing.net/th/id/OET.f8cd4861bc504029a90ccc272bbc954d?w=135&h=135&c=7&rs=1&o=5&pid=1.9



https://tse1-mm.cn.bing.net/th/id/OET.5ca4829fee72427b8424d6aead35163a?w=135&h=135&c=7&rs=1&o=5&pid=1.9



https://tse1-mm.cn.bing.net/th/id/OET.f27e5b857f524c648726b803a44837a4?w=135&h=135&c=7&rs=1&o=5&pid=1.9



https://tse1-mm.cn.bing.net/th/id/OET.86f8f5d4a8424e95822cc6f530b28316?w=272&h=272&c=7&rs=1&o=5&pid=1.9



https://tse1-mm.cn.bing.net/th/id/OET.8b50de78f3c44e47a5cbe52a8094b6f4?w=135&h=272&c=7&rs=1&o=5&pid=1.9



https://tse1-mm.cn.bing.net/th/id/OET.32ff11e67a65462e9d12127c5c7be898?w=135&h=272&c=7&rs=1&o=5&pid=1.9



https://tse1-mm.cn.bing.net/th/id/OET.0fa6741c6e5746668bdcf9895735f1e2?w=135&h=272&c=7&rs=1&o=5&pid=1.9



https://tse1-mm.cn.bing.net/th/id/OET.a423936cc17447a4ba2329095ea7b539?w=135&h=272&c=7&rs=1&o=5&pid=1.9



https://tse1-mm.cn.bing.net/th/id/OET.c1d707e326444e9fb8d33a29d94e8108?w=135&h=272&c=7&rs=1&o=5&pid=1.9



https://tse1-mm.cn.bing.net/th/id/OET.25c041cdb3a049eea9cd8f7df3087325?w=135&h=272&c=7&rs=1&o=5&pid=1.9



https://tse1-mm.cn.bing.net/th/id/OET.7f4445cdaa8c4c06826920fdb2dd60d8?w=135&h=135&c=7&rs=1&o=5&pid=1.9



https://tse1-mm.cn.bing.net/th/id/OET.f31b8704feea4ad19f17ce1ed7ad9249?w=135&h=135&c=7&rs=1&o=5&pid=1.9



https://tse1-mm.cn.bing.net/th/id/OET.bf90b0e89c0146289d4457d26218c0db?w=135&h=135&c=7&rs=1&o=5&pid=1.9



https://tse1-mm.cn.bing.net/th/id/OET.7d38e34c8217463885b31ed3053cfbd5?w=135&h=135&c=7&rs=1&o=5&pid=1.9



https://tse1-mm.cn.bing.net/th/id/OET.6570bfa2065f4f2c8074b99429c29e74?w=272&h=272&c=7&rs=1&o=5&pid=1.9



https://tse1-mm.cn.bing.net/th/id/OET.548058d6281c4ffa9d571f839910f32a?w=272&h=135&c=7&rs=1&o=5&pid=1.9



https://tse1-mm.cn.bing.net/th/id/OET.80281b69d95b48bc8a466fcdffad5173?w=272&h=135&c=7&rs=1&o=5&pid=1.9



https://tse1-mm.cn.bing.net/th/id/OET.1eadcb1402d74bb295fff97db1bf6600?w=272&h=135&c=7&rs=1&o=5&pid=1.9



https://tse1-mm.cn.bing.net/th/id/OET.de53e76d3f3d4a479eb8739b74f81440?w=272&h=135&c=7&rs=1&o=5&pid=1.9



https://tse1-mm.cn.bing.net/th/id/OET.e19d34f3918d4fa982966ba08fd4c07d?w=272&h=135&c=7&rs=1&o=5&pid=1.9



https://tse1-mm.cn.bing.net/th/id/OET.0a8ed06811b549b48a1917ad0ec2e055?w=272&h=135&c=7&rs=1&o=5&pid=1.9



https://tse1-mm.cn.bing.net/th/id/OET.4ef5bf6f0ae1423abe844d8242f55a80?w=135&h=135&c=7&rs=1&o=5&pid=1.9



https://tse1-mm.cn.bing.net/th/id/OET.3c15354dfdd047ab93fe96f196ad07cb?w=135&h=135&c=7&rs=1&o=5&pid=1.9



https://tse1-mm.cn.bing.net/th/id/OET.014e47747fd744729136663e06d30322?w=135&h=135&c=7&rs=1&o=5&pid=1.9



https://tse1-mm.cn.bing.net/th/id/OET.311ab2c108ce49efb855fed17cae87f8?w=135&h=135&c=7&rs=1&o=5&pid=1.9



https://tse1-mm.cn.bing.net/th/id/OET.13be13dfa85948e49ee8fbc70403d6c5?w=272&h=272&c=7&rs=1&o=5&pid=1.9



https://tse1-mm.cn.bing.net/th/id/OET.c278f8963dfe49ff9d896dac6cd4db70?w=272&h=135&c=7&rs=1&o=5&pid=1.9



https://tse1-mm.cn.bing.net/th/id/OET.e662e33e5f61405ea35606f21bebd306?w=272&h=135&c=7&rs=1&o=5&pid=1.9



https://tse1-mm.cn.bing.net/th/id/OET.28fd0f0ab6344e5cb21400966cb1bd4d?w=272&h=135&c=7&rs=1&o=5&pid=1.9



https://tse1-mm.cn.bing.net/th/id/OET.925b40d875fa4de792eafca813066152?w=272&h=135&c=7&rs=1&o=5&pid=1.9



https://tse1-mm.cn.bing.net/th/id/OET.52f4abd4696b4130953af7affa14f8a8?w=272&h=135&c=7&rs=1&o=5&pid=1.9



https://tse1-mm.cn.bing.net/th/id/OET.e709992723d94bfcbdea2455d661def0?w=272&h=135&c=7&rs=1&o=5&pid=1.9



https://tse1-mm.cn.bing.net/th/id/OET.8f8f61c7a67944758e1e85de7c4cfabf?w=135&h=135&c=7&rs=1&o=5&pid=1.9



https://tse1-mm.cn.bing.net/th/id/OET.d8fd1f230e9e49e397515b081766c2e2?w=135&h=135&c=7&rs=1&o=5&pid=1.9



https://tse1-mm.cn.bing.net/th/id/OET.bc987d4922c64b6a8c448cc6b2cb99c1?w=135&h=135&c=7&rs=1&o=5&pid=1.9



https://tse1-mm.cn.bing.net/th/id/OET.a878a7ad236549fe89ec1eb1b1bffd0b?w=135&h=135&c=7&rs=1&o=5&pid=1.9



https://tse1-mm.cn.bing.net/th/id/OET.409ef668387749e4af68a0dfce45c983?w=272&h=272&c=7&rs=1&o=5&pid=1.9



https://tse1-mm.cn.bing.net/th/id/OET.9ad45a55f5ac4133909b7cf15cc36fde?w=272&h=135&c=7&rs=1&o=5&pid=1.9



https://tse1-mm.cn.bing.net/th/id/OET.ae179eedbe6e425484b14c8978fa4079?w=272&h=135&c=7&rs=1&o=5&pid=1.9



https://tse1-mm.cn.bing.net/th/id/OET.164bf99f079a41c69d9fa0c349fa825f?w=272&h=135&c=7&rs=1&o=5&pid=1.9



https://tse1-mm.cn.bing.net/th/id/OET.9fb2529795ce419bb3f96a701a0edb36?w=272&h=135&c=7&rs=1&o=5&pid=1.9



https://tse1-mm.cn.bing.net/th/id/OET.3e3a5b91f801498984228dcc9ba6b743?w=272&h=135&c=7&rs=1&o=5&pid=1.9



https://tse1-mm.cn.bing.net/th/id/OET.81582f824b024116a5b7a91c185f968e?w=272&h=135&c=7&rs=1&o=5&pid=1.9



https://tse1-mm.cn.bing.net/th/id/OET.e255cd1d563846faa4b1551556a2b85d?w=135&h=135&c=7&rs=1&o=5&pid=1.9



https://tse1-mm.cn.bing.net/th/id/OET.6a0f85e050a54119a65ebecacd4d203a?w=135&h=135&c=7&rs=1&o=5&pid=1.9



https://tse1-mm.cn.bing.net/th/id/OET.2a67a683253746ae8f1062188c0d0c49?w=135&h=135&c=7&rs=1&o=5&pid=1.9



https://tse1-mm.cn.bing.net/th/id/OET.0c734667886f4459af7239e907d705f7?w=135&h=135&c=7&rs=1&o=5&pid=1.9



/rs/5g/Lk/ic/4907366b/da274d75.png



总结你学到什麽新东西？
A
B
C
总结你想会做什麽？
A
B
C


结束
小结 😍😲😙🤭😱
In [ ]:


​



